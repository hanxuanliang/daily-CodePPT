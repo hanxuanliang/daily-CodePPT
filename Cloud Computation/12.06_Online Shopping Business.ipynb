{
 "cells": [
  {
   "cell_type": "markdown",
   "metadata": {
    "slideshow": {
     "slide_type": "slide"
    }
   },
   "source": [
    "# <center>An Online Shopping Business</center>"
   ]
  },
  {
   "cell_type": "markdown",
   "metadata": {
    "slideshow": {
     "slide_type": "slide"
    }
   },
   "source": [
    "## Outline\n",
    "- **factors**\n",
    "- **Chioce**\n",
    "- **Advantages and Disadvantages**\n",
    "- **Next steps**\n",
    "- **Super Hot in 11.11**"
   ]
  },
  {
   "cell_type": "markdown",
   "metadata": {
    "slideshow": {
     "slide_type": "slide"
    }
   },
   "source": [
    "## <center>A few factors to consider</center>"
   ]
  },
  {
   "cell_type": "markdown",
   "metadata": {
    "slideshow": {
     "slide_type": "slide"
    }
   },
   "source": [
    "### 1. Fund\n",
    "- **Investments from big companies like Alibaba，Tencent**\n",
    "- **The capital chain behind the company is huge**\n",
    "- **Families with mine（if Rich Kids ）**"
   ]
  },
  {
   "cell_type": "markdown",
   "metadata": {
    "slideshow": {
     "slide_type": "slide"
    }
   },
   "source": [
    "### 2.Employees\n",
    "\n",
    "- **Development**\n",
    "- **Ops**\n",
    "- **Network security personnel**\n",
    "- **And So On ...**\n"
   ]
  },
  {
   "cell_type": "markdown",
   "metadata": {
    "slideshow": {
     "slide_type": "slide"
    }
   },
   "source": [
    "### 3.Security\n",
    "\n",
    " - **Data Security**\n",
    " - **Malicious crawler**\n",
    " - **DDoS || CSRF**\n",
    " - [http://www.ruanyifeng.com/blog/2018/06/ddos.html)"
   ]
  },
  {
   "cell_type": "markdown",
   "metadata": {
    "slideshow": {
     "slide_type": "slide"
    }
   },
   "source": [
    "### 4.stability\n",
    "\n",
    " - **Concurrency**\n",
    " \n",
    " - **Instantaneous impact flux like 11.11**\n"
   ]
  },
  {
   "cell_type": "markdown",
   "metadata": {
    "slideshow": {
     "slide_type": "slide"
    }
   },
   "source": [
    "### <center>And So On ...</center>"
   ]
  },
  {
   "cell_type": "markdown",
   "metadata": {
    "slideshow": {
     "slide_type": "slide"
    }
   },
   "source": [
    "## <center>Two Chioce</center>\n",
    "\n",
    "- **Off-the-shelf cloud services**\n",
    "- **Self-development**"
   ]
  },
  {
   "cell_type": "markdown",
   "metadata": {
    "slideshow": {
     "slide_type": "slide"
    }
   },
   "source": [
    "## <center>Off-the-shelf cloud services</center>\n",
    "- **Renting SaaS services**\n",
    "- **outsourcing**"
   ]
  },
  {
   "cell_type": "markdown",
   "metadata": {
    "slideshow": {
     "slide_type": "slide"
    }
   },
   "source": [
    "## <center>Advantages</center>\n",
    "- **Convenient**\n",
    "- **Quick launch product online**\n",
    "- **Reliability and safety**"
   ]
  },
  {
   "cell_type": "markdown",
   "metadata": {
    "slideshow": {
     "slide_type": "slide"
    }
   },
   "source": [
    "## <center>Disadvantages</center>\n",
    "- **Long-term capital expenditure**\n",
    "- **Difficulty in functional change**\n",
    "- **Data security hazard**"
   ]
  },
  {
   "cell_type": "markdown",
   "metadata": {
    "slideshow": {
     "slide_type": "slide"
    }
   },
   "source": [
    "## <center>Self-development</center>\n",
    "\n",
    "- **Rent a cloud server**\n",
    "- **and pair it with a local static server**\n",
    "- **Program development**\n",
    "- **Operation and maintenance personnel maintenance**"
   ]
  },
  {
   "cell_type": "markdown",
   "metadata": {
    "slideshow": {
     "slide_type": "slide"
    }
   },
   "source": [
    "## <center>Advantages</center>\n",
    "- **Function update speed is fast**\n",
    "- **You control the security of your data（Who knows）**\n",
    "- **Users' data can be used to generate diversified businesses**\n",
    "- **Reliability and safety？Maybe or Not**"
   ]
  },
  {
   "cell_type": "markdown",
   "metadata": {
    "slideshow": {
     "slide_type": "slide"
    }
   },
   "source": [
    "## <center>Disadvantages</center>\n",
    "- **Upfront costs are high**\n",
    "- **Unpredictable number of users**\n",
    "- **Late maintenance cycle is long**"
   ]
  },
  {
   "cell_type": "markdown",
   "metadata": {
    "slideshow": {
     "slide_type": "slide"
    }
   },
   "source": [
    "## <center>Next steps</center>\n",
    "\n",
    "> Whether you rent an existing service or build your own cloud service, as your business grows, you will need to expand your business one day. Higher extensibility and customization require enterprises to establish their own private data centers (based on cloud), which is not only conducive to the business expansion of enterprises but also conducive to user experience\n",
    "\n",
    "> 不管现在是租用现成的服务还是自己搭建云服务，随着业务的增长，总有一天是需要自己扩展业务。更高的扩展性和定制性，需要企业自己建立属于自己的私人数据中心（基于云），不仅是有利于企业自己的业务扩展还有利于用户的体验感"
   ]
  },
  {
   "cell_type": "markdown",
   "metadata": {
    "slideshow": {
     "slide_type": "slide"
    }
   },
   "source": [
    "## <center>Your only choice</center>\n",
    "### <center>On your own & In your own hands</center>"
   ]
  },
  {
   "cell_type": "markdown",
   "metadata": {
    "slideshow": {
     "slide_type": "slide"
    }
   },
   "source": [
    "## <center>Carnival in 11.11</center>\n",
    "\n",
    "- **Just adding servers?**\n",
    "> What if the actual physical machine isn't enough？\n",
    "- **Just by the clouds？**\n",
    "> What role does the cloud play？\n",
    "### <center>*It's not that simple*</center>"
   ]
  },
  {
   "cell_type": "markdown",
   "metadata": {
    "slideshow": {
     "slide_type": "slide"
    }
   },
   "source": [
    "## Simple chat\n",
    "- **Rehearse at ordinary times**\n",
    "> Several pressure measurements at ordinary times\n",
    "- **Distributed cache**\n",
    "> no need to read data directly from the primary database\n",
    "- **Docker & Cloud**"
   ]
  },
  {
   "cell_type": "markdown",
   "metadata": {
    "slideshow": {
     "slide_type": "slide"
    }
   },
   "source": [
    "# <center>Thank you for listening</center>\n",
    "    \n",
    "[github](https://github.com/hanxuanliang/daily-CodePPT)"
   ]
  }
 ],
 "metadata": {
  "celltoolbar": "Slideshow",
  "kernelspec": {
   "display_name": "Python 3",
   "language": "python",
   "name": "python3"
  },
  "language_info": {
   "codemirror_mode": {
    "name": "ipython",
    "version": 3
   },
   "file_extension": ".py",
   "mimetype": "text/x-python",
   "name": "python",
   "nbconvert_exporter": "python",
   "pygments_lexer": "ipython3",
   "version": "3.7.1"
  }
 },
 "nbformat": 4,
 "nbformat_minor": 2
}
